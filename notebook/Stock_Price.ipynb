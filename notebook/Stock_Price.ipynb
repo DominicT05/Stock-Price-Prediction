import numpy as np
import pandas as pd
import matplotlib.pyplot as plt
import seaborn as sns
from sklearn.metrics import mean_squared_error as mse
from sklearn.linear_model import LinearRegression

# Load data
data = pd.read_excel(r'C:\Users\Dom Pat\Desktop\Stocks\Stock_Price_Prediction.xlsx',
                     usecols=['Date', 'Close'], parse_dates=['Date'], index_col='Date')

print("Min Date:", data.index.min())
print("Max Date:", data.index.max())

# Plot original close prices
plt.figure(figsize=(17, 5))
data['Close'].plot(title="Closing Price", fontsize=20)
plt.show()

# Adjust price
stock_price = pd.concat([data.Close[:'2021-11-22']/2, data.Close['2021-11-22':]])

# Train/Test Split
prev_values = stock_price.iloc[:500]
y_test = stock_price.iloc[500:]

# Plot function
def plot_pred(pred, title):
    plt.figure(figsize=(17, 5))
    plt.plot(prev_values, label='Train')
    plt.plot(y_test, label='Actual')
    plt.plot(pred, label='Predicted')
    plt.ylabel("Stock prices")
    plt.title(title, fontsize=20)
    plt.legend()
    plt.show()

# Average Prediction
avg_pred = pd.Series(np.repeat(prev_values.mean(), len(y_test)), index=y_test.index)
print("Average MSE:", mse(avg_pred, y_test))
plot_pred(avg_pred, "Average Prediction")

# Moving Average
window = 80
y_train = stock_price[80:180]
y_test_ma = stock_price[180:]
X_train = pd.DataFrame([list(stock_price[i:i+window]) for i in range(100)],
                       columns=range(window, 0, -1), index=y_train.index)
X_test = pd.DataFrame([list(stock_price[i:i+window]) for i in range(100, 930)],
                      columns=range(window, 0, -1), index=y_test_ma.index)

ma_pred = X_test.mean(axis=1)
print("MA RMSE:", np.sqrt(mse(ma_pred, y_test_ma)))
plot_pred(ma_pred, "Moving Average")

# Weighted Moving Average
weights = np.array(range(1, window+1)) / window
wma_pred = X_test @ weights / sum(weights)
print("WMA RMSE:", np.sqrt(mse(wma_pred, y_test_ma)))
plot_pred(wma_pred, "Weighted Moving Average")

# Linear Regression
lr = LinearRegression()
lr.fit(X_train, y_train)
lr_pred = pd.Series(lr.predict(X_test), index=y_test_ma.index)
print("LR RMSE:", np.sqrt(mse(lr_pred, y_test_ma)))
plot_pred(lr_pred, "Linear Regression")

